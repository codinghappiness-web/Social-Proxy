{
 "cells": [
  {
   "cell_type": "code",
   "execution_count": 16,
   "id": "cd705e67",
   "metadata": {},
   "outputs": [],
   "source": [
    "#import libraries\n",
    "\n",
    "import re\n",
    "import nltk\n",
    "import pandas as pd\n",
    "from sklearn.linear_model import LogisticRegression\n",
    "from sklearn.model_selection import train_test_split\n",
    "from nltk.sentiment import SentimentIntensityAnalyzer\n",
    "from sklearn.feature_extraction.text import TfidfVectorizer\n",
    "from sklearn.metrics import accuracy_score, classification_report\n"
   ]
  },
  {
   "cell_type": "code",
   "execution_count": 17,
   "id": "1768f86f",
   "metadata": {},
   "outputs": [],
   "source": [
    "# Change display setting to show full text\n",
    "pd.set_option('display.max_colwidth', None)\n",
    "\n",
    "tweet = pd.read_csv(\"tweets.csv\")"
   ]
  },
  {
   "cell_type": "code",
   "execution_count": 18,
   "id": "a3e63f9e",
   "metadata": {},
   "outputs": [
    {
     "data": {
      "text/html": [
       "<div>\n",
       "<style scoped>\n",
       "    .dataframe tbody tr th:only-of-type {\n",
       "        vertical-align: middle;\n",
       "    }\n",
       "\n",
       "    .dataframe tbody tr th {\n",
       "        vertical-align: top;\n",
       "    }\n",
       "\n",
       "    .dataframe thead th {\n",
       "        text-align: right;\n",
       "    }\n",
       "</style>\n",
       "<table border=\"1\" class=\"dataframe\">\n",
       "  <thead>\n",
       "    <tr style=\"text-align: right;\">\n",
       "      <th></th>\n",
       "      <th>Unnamed: 0</th>\n",
       "      <th>tweet</th>\n",
       "      <th>sentiment</th>\n",
       "    </tr>\n",
       "  </thead>\n",
       "  <tbody>\n",
       "    <tr>\n",
       "      <th>0</th>\n",
       "      <td>0</td>\n",
       "      <td>You just know there are 8 or 9 \"Climate NGOs\" with Africa offices in Nairobi currently falling over themselves to offer $1,000 grants to some stupid Nigerian journalists to report the flooding in Maiduguri as \"climate change,\" tying in an argument against Africa using its own fossil fuels to industrialise.\\n\\nFor the record, here are the facts: this disaster was caused by the collapse of Maiduguri's 40 year-old Alau Dam, a dam constructed to shield Maiduguri from seasonal flooding along the Ngadda river basin. This dam already suffered structural damage due to high seasonal rainfall in 1992, 1994 and 2012, and never received the required maintenance to put it back into ideal operational shape.\\n\\nIn other words, this is an infrastructure problem, not a \"climate\" problem. It is a problem that will be solved by developing more capacity to build and adequately maintain infrastructure like Europe does - capacity that comes with cheap energy and industrialisation like Europe did.\\n\\nIf you are the oloriburuku bastard journalist in Abuja that is preparing to submit that $1,000 grant application to write nonsense for white people and hurt your people in the process, you will contract untreatable genital herpes and suffer until you die.</td>\n",
       "      <td>0</td>\n",
       "    </tr>\n",
       "    <tr>\n",
       "      <th>1</th>\n",
       "      <td>1</td>\n",
       "      <td>THE GREAT AWAKENING: The Truth about Bill Gates, Klaus Schwab, the World Economic Forum, BlackRock and Governments around the world destroying the Family unit and Sovereign Nations for a one world government through deliberate chaos, division, wars, climate change and pandemics.\\n\\nWe have the right as citizens in this country to abolish government and create a new one and that is the authority that has been given to us. It is written in our documents, the Declaration of Independence, the Constitution of the United States, the Declaration of Human Rights. We have indelible rights and the basis of those rights are our freedoms and if we don't have that, we don't have life. Arise humanity, wake up to the truth, fight for your freedom and for your lives.</td>\n",
       "      <td>0</td>\n",
       "    </tr>\n",
       "    <tr>\n",
       "      <th>2</th>\n",
       "      <td>2</td>\n",
       "      <td>Heavy rainfall in Ireland is becoming around 20% more intense and severe, due to human-induced climate change.\\nCouncil has recommended prioritisation of projects that enhance the resilience of Ireland’s critical infrastructure.\\n📑Read more: https://t.co/Mlbgp0qB2K https://t.co/4lg6vnW7D6</td>\n",
       "      <td>1</td>\n",
       "    </tr>\n",
       "    <tr>\n",
       "      <th>3</th>\n",
       "      <td>3</td>\n",
       "      <td>Why is Ginni Thomas still free ?\\nWhy isn’t Mark Meadows on trial ?\\nWhy isn’t Clarence Thomas in prison ?\\nWhy isn’t Trump facing execution for Treason ?\\n\\nThese are the most pressing issues in the USA ..other than Climate Change..which will absolutely end our way of life.\\n\\nWTAF https://t.co/3YT5DY0msl</td>\n",
       "      <td>0</td>\n",
       "    </tr>\n",
       "    <tr>\n",
       "      <th>4</th>\n",
       "      <td>4</td>\n",
       "      <td>Jasper, Alberta, one of the most beautiful places in the world. Firefighters don't think anything will be left by morning. \\n\\nI can't stop crying.\\n\\nDanielle Smith says there's no climate change, and no need to allocate money for forest fires.\\n\\nThe Conservatives destroyed Jasper. https://t.co/qgxilRMyPJ</td>\n",
       "      <td>0</td>\n",
       "    </tr>\n",
       "  </tbody>\n",
       "</table>\n",
       "</div>"
      ],
      "text/plain": [
       "   Unnamed: 0  \\\n",
       "0           0   \n",
       "1           1   \n",
       "2           2   \n",
       "3           3   \n",
       "4           4   \n",
       "\n",
       "                                                                                                                                                                                                                                                                                                                                                                                                                                                                                                                                                                                                                                                                                                                                                                                                                                                                                                                                                                                                                                                                                                                                                                                                                                                                                              tweet  \\\n",
       "0  You just know there are 8 or 9 \"Climate NGOs\" with Africa offices in Nairobi currently falling over themselves to offer $1,000 grants to some stupid Nigerian journalists to report the flooding in Maiduguri as \"climate change,\" tying in an argument against Africa using its own fossil fuels to industrialise.\\n\\nFor the record, here are the facts: this disaster was caused by the collapse of Maiduguri's 40 year-old Alau Dam, a dam constructed to shield Maiduguri from seasonal flooding along the Ngadda river basin. This dam already suffered structural damage due to high seasonal rainfall in 1992, 1994 and 2012, and never received the required maintenance to put it back into ideal operational shape.\\n\\nIn other words, this is an infrastructure problem, not a \"climate\" problem. It is a problem that will be solved by developing more capacity to build and adequately maintain infrastructure like Europe does - capacity that comes with cheap energy and industrialisation like Europe did.\\n\\nIf you are the oloriburuku bastard journalist in Abuja that is preparing to submit that $1,000 grant application to write nonsense for white people and hurt your people in the process, you will contract untreatable genital herpes and suffer until you die.   \n",
       "1                                                                                                                                                                                                                                                                                                                                                                                                                                                                                                         THE GREAT AWAKENING: The Truth about Bill Gates, Klaus Schwab, the World Economic Forum, BlackRock and Governments around the world destroying the Family unit and Sovereign Nations for a one world government through deliberate chaos, division, wars, climate change and pandemics.\\n\\nWe have the right as citizens in this country to abolish government and create a new one and that is the authority that has been given to us. It is written in our documents, the Declaration of Independence, the Constitution of the United States, the Declaration of Human Rights. We have indelible rights and the basis of those rights are our freedoms and if we don't have that, we don't have life. Arise humanity, wake up to the truth, fight for your freedom and for your lives.   \n",
       "2                                                                                                                                                                                                                                                                                                                                                                                                                                                                                                                                                                                                                                                                                                                                                                                                                                                                                                                                                                                                 Heavy rainfall in Ireland is becoming around 20% more intense and severe, due to human-induced climate change.\\nCouncil has recommended prioritisation of projects that enhance the resilience of Ireland’s critical infrastructure.\\n📑Read more: https://t.co/Mlbgp0qB2K https://t.co/4lg6vnW7D6   \n",
       "3                                                                                                                                                                                                                                                                                                                                                                                                                                                                                                                                                                                                                                                                                                                                                                                                                                                                                                                                                                               Why is Ginni Thomas still free ?\\nWhy isn’t Mark Meadows on trial ?\\nWhy isn’t Clarence Thomas in prison ?\\nWhy isn’t Trump facing execution for Treason ?\\n\\nThese are the most pressing issues in the USA ..other than Climate Change..which will absolutely end our way of life.\\n\\nWTAF https://t.co/3YT5DY0msl   \n",
       "4                                                                                                                                                                                                                                                                                                                                                                                                                                                                                                                                                                                                                                                                                                                                                                                                                                                                                                                                                                              Jasper, Alberta, one of the most beautiful places in the world. Firefighters don't think anything will be left by morning. \\n\\nI can't stop crying.\\n\\nDanielle Smith says there's no climate change, and no need to allocate money for forest fires.\\n\\nThe Conservatives destroyed Jasper. https://t.co/qgxilRMyPJ   \n",
       "\n",
       "   sentiment  \n",
       "0          0  \n",
       "1          0  \n",
       "2          1  \n",
       "3          0  \n",
       "4          0  "
      ]
     },
     "execution_count": 18,
     "metadata": {},
     "output_type": "execute_result"
    }
   ],
   "source": [
    "tweet.head()"
   ]
  },
  {
   "cell_type": "code",
   "execution_count": 19,
   "id": "58f40131",
   "metadata": {},
   "outputs": [
    {
     "data": {
      "text/html": [
       "<div>\n",
       "<style scoped>\n",
       "    .dataframe tbody tr th:only-of-type {\n",
       "        vertical-align: middle;\n",
       "    }\n",
       "\n",
       "    .dataframe tbody tr th {\n",
       "        vertical-align: top;\n",
       "    }\n",
       "\n",
       "    .dataframe thead th {\n",
       "        text-align: right;\n",
       "    }\n",
       "</style>\n",
       "<table border=\"1\" class=\"dataframe\">\n",
       "  <thead>\n",
       "    <tr style=\"text-align: right;\">\n",
       "      <th></th>\n",
       "      <th>Id</th>\n",
       "      <th>tweet</th>\n",
       "      <th>sentiment</th>\n",
       "    </tr>\n",
       "  </thead>\n",
       "  <tbody>\n",
       "    <tr>\n",
       "      <th>0</th>\n",
       "      <td>0</td>\n",
       "      <td>You just know there are 8 or 9 \"Climate NGOs\" with Africa offices in Nairobi currently falling over themselves to offer $1,000 grants to some stupid Nigerian journalists to report the flooding in Maiduguri as \"climate change,\" tying in an argument against Africa using its own fossil fuels to industrialise.\\n\\nFor the record, here are the facts: this disaster was caused by the collapse of Maiduguri's 40 year-old Alau Dam, a dam constructed to shield Maiduguri from seasonal flooding along the Ngadda river basin. This dam already suffered structural damage due to high seasonal rainfall in 1992, 1994 and 2012, and never received the required maintenance to put it back into ideal operational shape.\\n\\nIn other words, this is an infrastructure problem, not a \"climate\" problem. It is a problem that will be solved by developing more capacity to build and adequately maintain infrastructure like Europe does - capacity that comes with cheap energy and industrialisation like Europe did.\\n\\nIf you are the oloriburuku bastard journalist in Abuja that is preparing to submit that $1,000 grant application to write nonsense for white people and hurt your people in the process, you will contract untreatable genital herpes and suffer until you die.</td>\n",
       "      <td>0</td>\n",
       "    </tr>\n",
       "    <tr>\n",
       "      <th>1</th>\n",
       "      <td>1</td>\n",
       "      <td>THE GREAT AWAKENING: The Truth about Bill Gates, Klaus Schwab, the World Economic Forum, BlackRock and Governments around the world destroying the Family unit and Sovereign Nations for a one world government through deliberate chaos, division, wars, climate change and pandemics.\\n\\nWe have the right as citizens in this country to abolish government and create a new one and that is the authority that has been given to us. It is written in our documents, the Declaration of Independence, the Constitution of the United States, the Declaration of Human Rights. We have indelible rights and the basis of those rights are our freedoms and if we don't have that, we don't have life. Arise humanity, wake up to the truth, fight for your freedom and for your lives.</td>\n",
       "      <td>0</td>\n",
       "    </tr>\n",
       "    <tr>\n",
       "      <th>2</th>\n",
       "      <td>2</td>\n",
       "      <td>Heavy rainfall in Ireland is becoming around 20% more intense and severe, due to human-induced climate change.\\nCouncil has recommended prioritisation of projects that enhance the resilience of Ireland’s critical infrastructure.\\n📑Read more: https://t.co/Mlbgp0qB2K https://t.co/4lg6vnW7D6</td>\n",
       "      <td>1</td>\n",
       "    </tr>\n",
       "    <tr>\n",
       "      <th>3</th>\n",
       "      <td>3</td>\n",
       "      <td>Why is Ginni Thomas still free ?\\nWhy isn’t Mark Meadows on trial ?\\nWhy isn’t Clarence Thomas in prison ?\\nWhy isn’t Trump facing execution for Treason ?\\n\\nThese are the most pressing issues in the USA ..other than Climate Change..which will absolutely end our way of life.\\n\\nWTAF https://t.co/3YT5DY0msl</td>\n",
       "      <td>0</td>\n",
       "    </tr>\n",
       "    <tr>\n",
       "      <th>4</th>\n",
       "      <td>4</td>\n",
       "      <td>Jasper, Alberta, one of the most beautiful places in the world. Firefighters don't think anything will be left by morning. \\n\\nI can't stop crying.\\n\\nDanielle Smith says there's no climate change, and no need to allocate money for forest fires.\\n\\nThe Conservatives destroyed Jasper. https://t.co/qgxilRMyPJ</td>\n",
       "      <td>0</td>\n",
       "    </tr>\n",
       "  </tbody>\n",
       "</table>\n",
       "</div>"
      ],
      "text/plain": [
       "   Id  \\\n",
       "0   0   \n",
       "1   1   \n",
       "2   2   \n",
       "3   3   \n",
       "4   4   \n",
       "\n",
       "                                                                                                                                                                                                                                                                                                                                                                                                                                                                                                                                                                                                                                                                                                                                                                                                                                                                                                                                                                                                                                                                                                                                                                                                                                                                                              tweet  \\\n",
       "0  You just know there are 8 or 9 \"Climate NGOs\" with Africa offices in Nairobi currently falling over themselves to offer $1,000 grants to some stupid Nigerian journalists to report the flooding in Maiduguri as \"climate change,\" tying in an argument against Africa using its own fossil fuels to industrialise.\\n\\nFor the record, here are the facts: this disaster was caused by the collapse of Maiduguri's 40 year-old Alau Dam, a dam constructed to shield Maiduguri from seasonal flooding along the Ngadda river basin. This dam already suffered structural damage due to high seasonal rainfall in 1992, 1994 and 2012, and never received the required maintenance to put it back into ideal operational shape.\\n\\nIn other words, this is an infrastructure problem, not a \"climate\" problem. It is a problem that will be solved by developing more capacity to build and adequately maintain infrastructure like Europe does - capacity that comes with cheap energy and industrialisation like Europe did.\\n\\nIf you are the oloriburuku bastard journalist in Abuja that is preparing to submit that $1,000 grant application to write nonsense for white people and hurt your people in the process, you will contract untreatable genital herpes and suffer until you die.   \n",
       "1                                                                                                                                                                                                                                                                                                                                                                                                                                                                                                         THE GREAT AWAKENING: The Truth about Bill Gates, Klaus Schwab, the World Economic Forum, BlackRock and Governments around the world destroying the Family unit and Sovereign Nations for a one world government through deliberate chaos, division, wars, climate change and pandemics.\\n\\nWe have the right as citizens in this country to abolish government and create a new one and that is the authority that has been given to us. It is written in our documents, the Declaration of Independence, the Constitution of the United States, the Declaration of Human Rights. We have indelible rights and the basis of those rights are our freedoms and if we don't have that, we don't have life. Arise humanity, wake up to the truth, fight for your freedom and for your lives.   \n",
       "2                                                                                                                                                                                                                                                                                                                                                                                                                                                                                                                                                                                                                                                                                                                                                                                                                                                                                                                                                                                                 Heavy rainfall in Ireland is becoming around 20% more intense and severe, due to human-induced climate change.\\nCouncil has recommended prioritisation of projects that enhance the resilience of Ireland’s critical infrastructure.\\n📑Read more: https://t.co/Mlbgp0qB2K https://t.co/4lg6vnW7D6   \n",
       "3                                                                                                                                                                                                                                                                                                                                                                                                                                                                                                                                                                                                                                                                                                                                                                                                                                                                                                                                                                               Why is Ginni Thomas still free ?\\nWhy isn’t Mark Meadows on trial ?\\nWhy isn’t Clarence Thomas in prison ?\\nWhy isn’t Trump facing execution for Treason ?\\n\\nThese are the most pressing issues in the USA ..other than Climate Change..which will absolutely end our way of life.\\n\\nWTAF https://t.co/3YT5DY0msl   \n",
       "4                                                                                                                                                                                                                                                                                                                                                                                                                                                                                                                                                                                                                                                                                                                                                                                                                                                                                                                                                                              Jasper, Alberta, one of the most beautiful places in the world. Firefighters don't think anything will be left by morning. \\n\\nI can't stop crying.\\n\\nDanielle Smith says there's no climate change, and no need to allocate money for forest fires.\\n\\nThe Conservatives destroyed Jasper. https://t.co/qgxilRMyPJ   \n",
       "\n",
       "   sentiment  \n",
       "0          0  \n",
       "1          0  \n",
       "2          1  \n",
       "3          0  \n",
       "4          0  "
      ]
     },
     "execution_count": 19,
     "metadata": {},
     "output_type": "execute_result"
    }
   ],
   "source": [
    "#Rename the column\n",
    "\n",
    "tweet1 = tweet.rename(columns={'Unnamed: 0': 'Id'}, inplace=False)\n",
    "tweet1.head()"
   ]
  },
  {
   "cell_type": "code",
   "execution_count": 20,
   "id": "37383e56",
   "metadata": {},
   "outputs": [
    {
     "data": {
      "text/html": [
       "<div>\n",
       "<style scoped>\n",
       "    .dataframe tbody tr th:only-of-type {\n",
       "        vertical-align: middle;\n",
       "    }\n",
       "\n",
       "    .dataframe tbody tr th {\n",
       "        vertical-align: top;\n",
       "    }\n",
       "\n",
       "    .dataframe thead th {\n",
       "        text-align: right;\n",
       "    }\n",
       "</style>\n",
       "<table border=\"1\" class=\"dataframe\">\n",
       "  <thead>\n",
       "    <tr style=\"text-align: right;\">\n",
       "      <th></th>\n",
       "      <th>Id</th>\n",
       "      <th>tweet</th>\n",
       "      <th>sentiment</th>\n",
       "    </tr>\n",
       "  </thead>\n",
       "  <tbody>\n",
       "    <tr>\n",
       "      <th>996</th>\n",
       "      <td>996</td>\n",
       "      <td>Kamala hires ‘climate’ aide who believes climate change is reason to not have children, promoted gas stove bans  https://t.co/JbuxkKVJH8</td>\n",
       "      <td>0</td>\n",
       "    </tr>\n",
       "    <tr>\n",
       "      <th>997</th>\n",
       "      <td>997</td>\n",
       "      <td>This climate change fix could save the world — or doom it - USA TODAY https://t.co/YnoMQwzPBe</td>\n",
       "      <td>1</td>\n",
       "    </tr>\n",
       "    <tr>\n",
       "      <th>998</th>\n",
       "      <td>998</td>\n",
       "      <td>This is howling into the void, but if they had any integrity the climate sceptics who this week used data on the UK's slightly cooler summer to suggest climate change is no big deal would look at this new global data and experience crushing embarrassment. https://t.co/QKqGcN7Ap2</td>\n",
       "      <td>0</td>\n",
       "    </tr>\n",
       "    <tr>\n",
       "      <th>999</th>\n",
       "      <td>999</td>\n",
       "      <td>This dude really said that “Climate change is having a disproportionate effect on the physical and mental health of black communities”\\n\\nCmon 🤣🤣\\nhttps://t.co/SLLhjiRElG</td>\n",
       "      <td>0</td>\n",
       "    </tr>\n",
       "    <tr>\n",
       "      <th>1000</th>\n",
       "      <td>1000</td>\n",
       "      <td>Hey Florida - bang up fucking job your governor is doing. If the governor of the likely first state to become submerged didn't run around stating cLiMaTe cHaNgE iS a HoAx perhaps measures could be taken to mitigate shit like this, no?</td>\n",
       "      <td>0</td>\n",
       "    </tr>\n",
       "  </tbody>\n",
       "</table>\n",
       "</div>"
      ],
      "text/plain": [
       "        Id  \\\n",
       "996    996   \n",
       "997    997   \n",
       "998    998   \n",
       "999    999   \n",
       "1000  1000   \n",
       "\n",
       "                                                                                                                                                                                                                                                                                        tweet  \\\n",
       "996                                                                                                                                                  Kamala hires ‘climate’ aide who believes climate change is reason to not have children, promoted gas stove bans  https://t.co/JbuxkKVJH8   \n",
       "997                                                                                                                                                                                             This climate change fix could save the world — or doom it - USA TODAY https://t.co/YnoMQwzPBe   \n",
       "998   This is howling into the void, but if they had any integrity the climate sceptics who this week used data on the UK's slightly cooler summer to suggest climate change is no big deal would look at this new global data and experience crushing embarrassment. https://t.co/QKqGcN7Ap2   \n",
       "999                                                                                                                This dude really said that “Climate change is having a disproportionate effect on the physical and mental health of black communities”\\n\\nCmon 🤣🤣\\nhttps://t.co/SLLhjiRElG   \n",
       "1000                                               Hey Florida - bang up fucking job your governor is doing. If the governor of the likely first state to become submerged didn't run around stating cLiMaTe cHaNgE iS a HoAx perhaps measures could be taken to mitigate shit like this, no?   \n",
       "\n",
       "      sentiment  \n",
       "996           0  \n",
       "997           1  \n",
       "998           0  \n",
       "999           0  \n",
       "1000          0  "
      ]
     },
     "execution_count": 20,
     "metadata": {},
     "output_type": "execute_result"
    }
   ],
   "source": [
    "tweet1.tail()"
   ]
  },
  {
   "cell_type": "code",
   "execution_count": 21,
   "id": "d896e1b9",
   "metadata": {},
   "outputs": [],
   "source": [
    "#Data cleaning - Remove hastags,urls, emojis and special characters\n",
    "#Define function to clean tweets\n",
    "\n",
    "\n",
    "def clean_tweet(tweet1):\n",
    "    tweet1 = re.sub(r'http\\S+', '', tweet1)  # Remove URLs\n",
    "    tweet1 = re.sub(r'#\\w+', '', tweet1)     # Remove hashtags\n",
    "    tweet1 = re.sub(r'@[A-Za-z0-9_]+', '', tweet1)  # Remove mentions\n",
    "    tweet1 = re.sub(r'[^A-Za-z\\s]', '', tweet1)     # Remove special characters (keep only letters and spaces)\n",
    "    tweet1 = re.sub(r'\\s+', ' ', tweet1).strip()    # Remove extra spaces\n",
    "    return tweet1\n",
    "\n",
    "# Apply the clean_tweet function to the 'tweet' column\n",
    "tweet1['cleaned_tweet'] = tweet1['tweet'].apply(clean_tweet)"
   ]
  },
  {
   "cell_type": "code",
   "execution_count": 22,
   "id": "bc824e2d",
   "metadata": {},
   "outputs": [
    {
     "data": {
      "text/html": [
       "<div>\n",
       "<style scoped>\n",
       "    .dataframe tbody tr th:only-of-type {\n",
       "        vertical-align: middle;\n",
       "    }\n",
       "\n",
       "    .dataframe tbody tr th {\n",
       "        vertical-align: top;\n",
       "    }\n",
       "\n",
       "    .dataframe thead th {\n",
       "        text-align: right;\n",
       "    }\n",
       "</style>\n",
       "<table border=\"1\" class=\"dataframe\">\n",
       "  <thead>\n",
       "    <tr style=\"text-align: right;\">\n",
       "      <th></th>\n",
       "      <th>Id</th>\n",
       "      <th>tweet</th>\n",
       "      <th>sentiment</th>\n",
       "      <th>cleaned_tweet</th>\n",
       "    </tr>\n",
       "  </thead>\n",
       "  <tbody>\n",
       "    <tr>\n",
       "      <th>0</th>\n",
       "      <td>0</td>\n",
       "      <td>You just know there are 8 or 9 \"Climate NGOs\" with Africa offices in Nairobi currently falling over themselves to offer $1,000 grants to some stupid Nigerian journalists to report the flooding in Maiduguri as \"climate change,\" tying in an argument against Africa using its own fossil fuels to industrialise.\\n\\nFor the record, here are the facts: this disaster was caused by the collapse of Maiduguri's 40 year-old Alau Dam, a dam constructed to shield Maiduguri from seasonal flooding along the Ngadda river basin. This dam already suffered structural damage due to high seasonal rainfall in 1992, 1994 and 2012, and never received the required maintenance to put it back into ideal operational shape.\\n\\nIn other words, this is an infrastructure problem, not a \"climate\" problem. It is a problem that will be solved by developing more capacity to build and adequately maintain infrastructure like Europe does - capacity that comes with cheap energy and industrialisation like Europe did.\\n\\nIf you are the oloriburuku bastard journalist in Abuja that is preparing to submit that $1,000 grant application to write nonsense for white people and hurt your people in the process, you will contract untreatable genital herpes and suffer until you die.</td>\n",
       "      <td>0</td>\n",
       "      <td>You just know there are or Climate NGOs with Africa offices in Nairobi currently falling over themselves to offer grants to some stupid Nigerian journalists to report the flooding in Maiduguri as climate change tying in an argument against Africa using its own fossil fuels to industrialise For the record here are the facts this disaster was caused by the collapse of Maiduguris yearold Alau Dam a dam constructed to shield Maiduguri from seasonal flooding along the Ngadda river basin This dam already suffered structural damage due to high seasonal rainfall in and and never received the required maintenance to put it back into ideal operational shape In other words this is an infrastructure problem not a climate problem It is a problem that will be solved by developing more capacity to build and adequately maintain infrastructure like Europe does capacity that comes with cheap energy and industrialisation like Europe did If you are the oloriburuku bastard journalist in Abuja that is preparing to submit that grant application to write nonsense for white people and hurt your people in the process you will contract untreatable genital herpes and suffer until you die</td>\n",
       "    </tr>\n",
       "    <tr>\n",
       "      <th>1</th>\n",
       "      <td>1</td>\n",
       "      <td>THE GREAT AWAKENING: The Truth about Bill Gates, Klaus Schwab, the World Economic Forum, BlackRock and Governments around the world destroying the Family unit and Sovereign Nations for a one world government through deliberate chaos, division, wars, climate change and pandemics.\\n\\nWe have the right as citizens in this country to abolish government and create a new one and that is the authority that has been given to us. It is written in our documents, the Declaration of Independence, the Constitution of the United States, the Declaration of Human Rights. We have indelible rights and the basis of those rights are our freedoms and if we don't have that, we don't have life. Arise humanity, wake up to the truth, fight for your freedom and for your lives.</td>\n",
       "      <td>0</td>\n",
       "      <td>THE GREAT AWAKENING The Truth about Bill Gates Klaus Schwab the World Economic Forum BlackRock and Governments around the world destroying the Family unit and Sovereign Nations for a one world government through deliberate chaos division wars climate change and pandemics We have the right as citizens in this country to abolish government and create a new one and that is the authority that has been given to us It is written in our documents the Declaration of Independence the Constitution of the United States the Declaration of Human Rights We have indelible rights and the basis of those rights are our freedoms and if we dont have that we dont have life Arise humanity wake up to the truth fight for your freedom and for your lives</td>\n",
       "    </tr>\n",
       "    <tr>\n",
       "      <th>2</th>\n",
       "      <td>2</td>\n",
       "      <td>Heavy rainfall in Ireland is becoming around 20% more intense and severe, due to human-induced climate change.\\nCouncil has recommended prioritisation of projects that enhance the resilience of Ireland’s critical infrastructure.\\n📑Read more: https://t.co/Mlbgp0qB2K https://t.co/4lg6vnW7D6</td>\n",
       "      <td>1</td>\n",
       "      <td>Heavy rainfall in Ireland is becoming around more intense and severe due to humaninduced climate change Council has recommended prioritisation of projects that enhance the resilience of Irelands critical infrastructure Read more</td>\n",
       "    </tr>\n",
       "    <tr>\n",
       "      <th>3</th>\n",
       "      <td>3</td>\n",
       "      <td>Why is Ginni Thomas still free ?\\nWhy isn’t Mark Meadows on trial ?\\nWhy isn’t Clarence Thomas in prison ?\\nWhy isn’t Trump facing execution for Treason ?\\n\\nThese are the most pressing issues in the USA ..other than Climate Change..which will absolutely end our way of life.\\n\\nWTAF https://t.co/3YT5DY0msl</td>\n",
       "      <td>0</td>\n",
       "      <td>Why is Ginni Thomas still free Why isnt Mark Meadows on trial Why isnt Clarence Thomas in prison Why isnt Trump facing execution for Treason These are the most pressing issues in the USA other than Climate Changewhich will absolutely end our way of life WTAF</td>\n",
       "    </tr>\n",
       "    <tr>\n",
       "      <th>4</th>\n",
       "      <td>4</td>\n",
       "      <td>Jasper, Alberta, one of the most beautiful places in the world. Firefighters don't think anything will be left by morning. \\n\\nI can't stop crying.\\n\\nDanielle Smith says there's no climate change, and no need to allocate money for forest fires.\\n\\nThe Conservatives destroyed Jasper. https://t.co/qgxilRMyPJ</td>\n",
       "      <td>0</td>\n",
       "      <td>Jasper Alberta one of the most beautiful places in the world Firefighters dont think anything will be left by morning I cant stop crying Danielle Smith says theres no climate change and no need to allocate money for forest fires The Conservatives destroyed Jasper</td>\n",
       "    </tr>\n",
       "  </tbody>\n",
       "</table>\n",
       "</div>"
      ],
      "text/plain": [
       "   Id  \\\n",
       "0   0   \n",
       "1   1   \n",
       "2   2   \n",
       "3   3   \n",
       "4   4   \n",
       "\n",
       "                                                                                                                                                                                                                                                                                                                                                                                                                                                                                                                                                                                                                                                                                                                                                                                                                                                                                                                                                                                                                                                                                                                                                                                                                                                                                              tweet  \\\n",
       "0  You just know there are 8 or 9 \"Climate NGOs\" with Africa offices in Nairobi currently falling over themselves to offer $1,000 grants to some stupid Nigerian journalists to report the flooding in Maiduguri as \"climate change,\" tying in an argument against Africa using its own fossil fuels to industrialise.\\n\\nFor the record, here are the facts: this disaster was caused by the collapse of Maiduguri's 40 year-old Alau Dam, a dam constructed to shield Maiduguri from seasonal flooding along the Ngadda river basin. This dam already suffered structural damage due to high seasonal rainfall in 1992, 1994 and 2012, and never received the required maintenance to put it back into ideal operational shape.\\n\\nIn other words, this is an infrastructure problem, not a \"climate\" problem. It is a problem that will be solved by developing more capacity to build and adequately maintain infrastructure like Europe does - capacity that comes with cheap energy and industrialisation like Europe did.\\n\\nIf you are the oloriburuku bastard journalist in Abuja that is preparing to submit that $1,000 grant application to write nonsense for white people and hurt your people in the process, you will contract untreatable genital herpes and suffer until you die.   \n",
       "1                                                                                                                                                                                                                                                                                                                                                                                                                                                                                                         THE GREAT AWAKENING: The Truth about Bill Gates, Klaus Schwab, the World Economic Forum, BlackRock and Governments around the world destroying the Family unit and Sovereign Nations for a one world government through deliberate chaos, division, wars, climate change and pandemics.\\n\\nWe have the right as citizens in this country to abolish government and create a new one and that is the authority that has been given to us. It is written in our documents, the Declaration of Independence, the Constitution of the United States, the Declaration of Human Rights. We have indelible rights and the basis of those rights are our freedoms and if we don't have that, we don't have life. Arise humanity, wake up to the truth, fight for your freedom and for your lives.   \n",
       "2                                                                                                                                                                                                                                                                                                                                                                                                                                                                                                                                                                                                                                                                                                                                                                                                                                                                                                                                                                                                 Heavy rainfall in Ireland is becoming around 20% more intense and severe, due to human-induced climate change.\\nCouncil has recommended prioritisation of projects that enhance the resilience of Ireland’s critical infrastructure.\\n📑Read more: https://t.co/Mlbgp0qB2K https://t.co/4lg6vnW7D6   \n",
       "3                                                                                                                                                                                                                                                                                                                                                                                                                                                                                                                                                                                                                                                                                                                                                                                                                                                                                                                                                                               Why is Ginni Thomas still free ?\\nWhy isn’t Mark Meadows on trial ?\\nWhy isn’t Clarence Thomas in prison ?\\nWhy isn’t Trump facing execution for Treason ?\\n\\nThese are the most pressing issues in the USA ..other than Climate Change..which will absolutely end our way of life.\\n\\nWTAF https://t.co/3YT5DY0msl   \n",
       "4                                                                                                                                                                                                                                                                                                                                                                                                                                                                                                                                                                                                                                                                                                                                                                                                                                                                                                                                                                              Jasper, Alberta, one of the most beautiful places in the world. Firefighters don't think anything will be left by morning. \\n\\nI can't stop crying.\\n\\nDanielle Smith says there's no climate change, and no need to allocate money for forest fires.\\n\\nThe Conservatives destroyed Jasper. https://t.co/qgxilRMyPJ   \n",
       "\n",
       "   sentiment  \\\n",
       "0          0   \n",
       "1          0   \n",
       "2          1   \n",
       "3          0   \n",
       "4          0   \n",
       "\n",
       "                                                                                                                                                                                                                                                                                                                                                                                                                                                                                                                                                                                                                                                                                                                                                                                                                                                                                                                                                                                                                                                                                                                                                                                                                cleaned_tweet  \n",
       "0  You just know there are or Climate NGOs with Africa offices in Nairobi currently falling over themselves to offer grants to some stupid Nigerian journalists to report the flooding in Maiduguri as climate change tying in an argument against Africa using its own fossil fuels to industrialise For the record here are the facts this disaster was caused by the collapse of Maiduguris yearold Alau Dam a dam constructed to shield Maiduguri from seasonal flooding along the Ngadda river basin This dam already suffered structural damage due to high seasonal rainfall in and and never received the required maintenance to put it back into ideal operational shape In other words this is an infrastructure problem not a climate problem It is a problem that will be solved by developing more capacity to build and adequately maintain infrastructure like Europe does capacity that comes with cheap energy and industrialisation like Europe did If you are the oloriburuku bastard journalist in Abuja that is preparing to submit that grant application to write nonsense for white people and hurt your people in the process you will contract untreatable genital herpes and suffer until you die  \n",
       "1                                                                                                                                                                                                                                                                                                                                                                                                                                                          THE GREAT AWAKENING The Truth about Bill Gates Klaus Schwab the World Economic Forum BlackRock and Governments around the world destroying the Family unit and Sovereign Nations for a one world government through deliberate chaos division wars climate change and pandemics We have the right as citizens in this country to abolish government and create a new one and that is the authority that has been given to us It is written in our documents the Declaration of Independence the Constitution of the United States the Declaration of Human Rights We have indelible rights and the basis of those rights are our freedoms and if we dont have that we dont have life Arise humanity wake up to the truth fight for your freedom and for your lives  \n",
       "2                                                                                                                                                                                                                                                                                                                                                                                                                                                                                                                                                                                                                                                                                                                                                                                                                                                                                                                                                                                        Heavy rainfall in Ireland is becoming around more intense and severe due to humaninduced climate change Council has recommended prioritisation of projects that enhance the resilience of Irelands critical infrastructure Read more  \n",
       "3                                                                                                                                                                                                                                                                                                                                                                                                                                                                                                                                                                                                                                                                                                                                                                                                                                                                                                                                                          Why is Ginni Thomas still free Why isnt Mark Meadows on trial Why isnt Clarence Thomas in prison Why isnt Trump facing execution for Treason These are the most pressing issues in the USA other than Climate Changewhich will absolutely end our way of life WTAF  \n",
       "4                                                                                                                                                                                                                                                                                                                                                                                                                                                                                                                                                                                                                                                                                                                                                                                                                                                                                                                                                     Jasper Alberta one of the most beautiful places in the world Firefighters dont think anything will be left by morning I cant stop crying Danielle Smith says theres no climate change and no need to allocate money for forest fires The Conservatives destroyed Jasper  "
      ]
     },
     "execution_count": 22,
     "metadata": {},
     "output_type": "execute_result"
    }
   ],
   "source": [
    "tweet1.head()"
   ]
  },
  {
   "cell_type": "code",
   "execution_count": 23,
   "id": "fef09af3",
   "metadata": {},
   "outputs": [
    {
     "data": {
      "text/html": [
       "<div>\n",
       "<style scoped>\n",
       "    .dataframe tbody tr th:only-of-type {\n",
       "        vertical-align: middle;\n",
       "    }\n",
       "\n",
       "    .dataframe tbody tr th {\n",
       "        vertical-align: top;\n",
       "    }\n",
       "\n",
       "    .dataframe thead th {\n",
       "        text-align: right;\n",
       "    }\n",
       "</style>\n",
       "<table border=\"1\" class=\"dataframe\">\n",
       "  <thead>\n",
       "    <tr style=\"text-align: right;\">\n",
       "      <th></th>\n",
       "      <th>Id</th>\n",
       "      <th>tweet</th>\n",
       "      <th>sentiment</th>\n",
       "      <th>cleaned_tweet</th>\n",
       "    </tr>\n",
       "  </thead>\n",
       "  <tbody>\n",
       "    <tr>\n",
       "      <th>996</th>\n",
       "      <td>996</td>\n",
       "      <td>Kamala hires ‘climate’ aide who believes climate change is reason to not have children, promoted gas stove bans  https://t.co/JbuxkKVJH8</td>\n",
       "      <td>0</td>\n",
       "      <td>Kamala hires climate aide who believes climate change is reason to not have children promoted gas stove bans</td>\n",
       "    </tr>\n",
       "    <tr>\n",
       "      <th>997</th>\n",
       "      <td>997</td>\n",
       "      <td>This climate change fix could save the world — or doom it - USA TODAY https://t.co/YnoMQwzPBe</td>\n",
       "      <td>1</td>\n",
       "      <td>This climate change fix could save the world or doom it USA TODAY</td>\n",
       "    </tr>\n",
       "    <tr>\n",
       "      <th>998</th>\n",
       "      <td>998</td>\n",
       "      <td>This is howling into the void, but if they had any integrity the climate sceptics who this week used data on the UK's slightly cooler summer to suggest climate change is no big deal would look at this new global data and experience crushing embarrassment. https://t.co/QKqGcN7Ap2</td>\n",
       "      <td>0</td>\n",
       "      <td>This is howling into the void but if they had any integrity the climate sceptics who this week used data on the UKs slightly cooler summer to suggest climate change is no big deal would look at this new global data and experience crushing embarrassment</td>\n",
       "    </tr>\n",
       "    <tr>\n",
       "      <th>999</th>\n",
       "      <td>999</td>\n",
       "      <td>This dude really said that “Climate change is having a disproportionate effect on the physical and mental health of black communities”\\n\\nCmon 🤣🤣\\nhttps://t.co/SLLhjiRElG</td>\n",
       "      <td>0</td>\n",
       "      <td>This dude really said that Climate change is having a disproportionate effect on the physical and mental health of black communities Cmon</td>\n",
       "    </tr>\n",
       "    <tr>\n",
       "      <th>1000</th>\n",
       "      <td>1000</td>\n",
       "      <td>Hey Florida - bang up fucking job your governor is doing. If the governor of the likely first state to become submerged didn't run around stating cLiMaTe cHaNgE iS a HoAx perhaps measures could be taken to mitigate shit like this, no?</td>\n",
       "      <td>0</td>\n",
       "      <td>Hey Florida bang up fucking job your governor is doing If the governor of the likely first state to become submerged didnt run around stating cLiMaTe cHaNgE iS a HoAx perhaps measures could be taken to mitigate shit like this no</td>\n",
       "    </tr>\n",
       "  </tbody>\n",
       "</table>\n",
       "</div>"
      ],
      "text/plain": [
       "        Id  \\\n",
       "996    996   \n",
       "997    997   \n",
       "998    998   \n",
       "999    999   \n",
       "1000  1000   \n",
       "\n",
       "                                                                                                                                                                                                                                                                                        tweet  \\\n",
       "996                                                                                                                                                  Kamala hires ‘climate’ aide who believes climate change is reason to not have children, promoted gas stove bans  https://t.co/JbuxkKVJH8   \n",
       "997                                                                                                                                                                                             This climate change fix could save the world — or doom it - USA TODAY https://t.co/YnoMQwzPBe   \n",
       "998   This is howling into the void, but if they had any integrity the climate sceptics who this week used data on the UK's slightly cooler summer to suggest climate change is no big deal would look at this new global data and experience crushing embarrassment. https://t.co/QKqGcN7Ap2   \n",
       "999                                                                                                                This dude really said that “Climate change is having a disproportionate effect on the physical and mental health of black communities”\\n\\nCmon 🤣🤣\\nhttps://t.co/SLLhjiRElG   \n",
       "1000                                               Hey Florida - bang up fucking job your governor is doing. If the governor of the likely first state to become submerged didn't run around stating cLiMaTe cHaNgE iS a HoAx perhaps measures could be taken to mitigate shit like this, no?   \n",
       "\n",
       "      sentiment  \\\n",
       "996           0   \n",
       "997           1   \n",
       "998           0   \n",
       "999           0   \n",
       "1000          0   \n",
       "\n",
       "                                                                                                                                                                                                                                                     cleaned_tweet  \n",
       "996                                                                                                                                                   Kamala hires climate aide who believes climate change is reason to not have children promoted gas stove bans  \n",
       "997                                                                                                                                                                                              This climate change fix could save the world or doom it USA TODAY  \n",
       "998   This is howling into the void but if they had any integrity the climate sceptics who this week used data on the UKs slightly cooler summer to suggest climate change is no big deal would look at this new global data and experience crushing embarrassment  \n",
       "999                                                                                                                      This dude really said that Climate change is having a disproportionate effect on the physical and mental health of black communities Cmon  \n",
       "1000                          Hey Florida bang up fucking job your governor is doing If the governor of the likely first state to become submerged didnt run around stating cLiMaTe cHaNgE iS a HoAx perhaps measures could be taken to mitigate shit like this no  "
      ]
     },
     "execution_count": 23,
     "metadata": {},
     "output_type": "execute_result"
    }
   ],
   "source": [
    "tweet1.tail()"
   ]
  },
  {
   "cell_type": "code",
   "execution_count": 24,
   "id": "491f8300",
   "metadata": {},
   "outputs": [
    {
     "name": "stdout",
     "output_type": "stream",
     "text": [
      "<class 'pandas.core.frame.DataFrame'>\n",
      "RangeIndex: 1001 entries, 0 to 1000\n",
      "Data columns (total 4 columns):\n",
      " #   Column         Non-Null Count  Dtype \n",
      "---  ------         --------------  ----- \n",
      " 0   Id             1001 non-null   int64 \n",
      " 1   tweet          1001 non-null   object\n",
      " 2   sentiment      1001 non-null   int64 \n",
      " 3   cleaned_tweet  1001 non-null   object\n",
      "dtypes: int64(2), object(2)\n",
      "memory usage: 31.4+ KB\n"
     ]
    }
   ],
   "source": [
    "tweet1.info()"
   ]
  },
  {
   "cell_type": "code",
   "execution_count": 25,
   "id": "3a3cf030",
   "metadata": {},
   "outputs": [
    {
     "data": {
      "text/plain": [
       "Id               0\n",
       "tweet            0\n",
       "sentiment        0\n",
       "cleaned_tweet    0\n",
       "dtype: int64"
      ]
     },
     "execution_count": 25,
     "metadata": {},
     "output_type": "execute_result"
    }
   ],
   "source": [
    "tweet1.isnull().sum()"
   ]
  },
  {
   "cell_type": "code",
   "execution_count": 26,
   "id": "f9e6d795",
   "metadata": {},
   "outputs": [
    {
     "name": "stdout",
     "output_type": "stream",
     "text": [
      "                                                                                                                                                                                                                                                                                                                                                                                                                                                                                                                                                                                                                                                                                                                                                                                                                                                                                                                                                                                                                                                                                                                                                                                                                   cleaned_tweet  \\\n",
      "0     You just know there are or Climate NGOs with Africa offices in Nairobi currently falling over themselves to offer grants to some stupid Nigerian journalists to report the flooding in Maiduguri as climate change tying in an argument against Africa using its own fossil fuels to industrialise For the record here are the facts this disaster was caused by the collapse of Maiduguris yearold Alau Dam a dam constructed to shield Maiduguri from seasonal flooding along the Ngadda river basin This dam already suffered structural damage due to high seasonal rainfall in and and never received the required maintenance to put it back into ideal operational shape In other words this is an infrastructure problem not a climate problem It is a problem that will be solved by developing more capacity to build and adequately maintain infrastructure like Europe does capacity that comes with cheap energy and industrialisation like Europe did If you are the oloriburuku bastard journalist in Abuja that is preparing to submit that grant application to write nonsense for white people and hurt your people in the process you will contract untreatable genital herpes and suffer until you die   \n",
      "1                                                                                                                                                                                                                                                                                                                                                                                                                                                             THE GREAT AWAKENING The Truth about Bill Gates Klaus Schwab the World Economic Forum BlackRock and Governments around the world destroying the Family unit and Sovereign Nations for a one world government through deliberate chaos division wars climate change and pandemics We have the right as citizens in this country to abolish government and create a new one and that is the authority that has been given to us It is written in our documents the Declaration of Independence the Constitution of the United States the Declaration of Human Rights We have indelible rights and the basis of those rights are our freedoms and if we dont have that we dont have life Arise humanity wake up to the truth fight for your freedom and for your lives   \n",
      "2                                                                                                                                                                                                                                                                                                                                                                                                                                                                                                                                                                                                                                                                                                                                                                                                                                                                                                                                                                                           Heavy rainfall in Ireland is becoming around more intense and severe due to humaninduced climate change Council has recommended prioritisation of projects that enhance the resilience of Irelands critical infrastructure Read more   \n",
      "3                                                                                                                                                                                                                                                                                                                                                                                                                                                                                                                                                                                                                                                                                                                                                                                                                                                                                                                                                             Why is Ginni Thomas still free Why isnt Mark Meadows on trial Why isnt Clarence Thomas in prison Why isnt Trump facing execution for Treason These are the most pressing issues in the USA other than Climate Changewhich will absolutely end our way of life WTAF   \n",
      "4                                                                                                                                                                                                                                                                                                                                                                                                                                                                                                                                                                                                                                                                                                                                                                                                                                                                                                                                                        Jasper Alberta one of the most beautiful places in the world Firefighters dont think anything will be left by morning I cant stop crying Danielle Smith says theres no climate change and no need to allocate money for forest fires The Conservatives destroyed Jasper   \n",
      "...                                                                                                                                                                                                                                                                                                                                                                                                                                                                                                                                                                                                                                                                                                                                                                                                                                                                                                                                                                                                                                                                                                                                                                                                                          ...   \n",
      "996                                                                                                                                                                                                                                                                                                                                                                                                                                                                                                                                                                                                                                                                                                                                                                                                                                                                                                                                                                                                                                                                                                                 Kamala hires climate aide who believes climate change is reason to not have children promoted gas stove bans   \n",
      "997                                                                                                                                                                                                                                                                                                                                                                                                                                                                                                                                                                                                                                                                                                                                                                                                                                                                                                                                                                                                                                                                                                                                                            This climate change fix could save the world or doom it USA TODAY   \n",
      "998                                                                                                                                                                                                                                                                                                                                                                                                                                                                                                                                                                                                                                                                                                                                                                                                                                                                                                                                                                 This is howling into the void but if they had any integrity the climate sceptics who this week used data on the UKs slightly cooler summer to suggest climate change is no big deal would look at this new global data and experience crushing embarrassment   \n",
      "999                                                                                                                                                                                                                                                                                                                                                                                                                                                                                                                                                                                                                                                                                                                                                                                                                                                                                                                                                                                                                                                                                    This dude really said that Climate change is having a disproportionate effect on the physical and mental health of black communities Cmon   \n",
      "1000                                                                                                                                                                                                                                                                                                                                                                                                                                                                                                                                                                                                                                                                                                                                                                                                                                                                                                                                                                                        Hey Florida bang up fucking job your governor is doing If the governor of the likely first state to become submerged didnt run around stating cLiMaTe cHaNgE iS a HoAx perhaps measures could be taken to mitigate shit like this no   \n",
      "\n",
      "      keyword_present has_hashtags  \n",
      "0                True           []  \n",
      "1                True           []  \n",
      "2                True           []  \n",
      "3               False           []  \n",
      "4                True           []  \n",
      "...               ...          ...  \n",
      "996              True           []  \n",
      "997              True           []  \n",
      "998              True           []  \n",
      "999             False           []  \n",
      "1000            False           []  \n",
      "\n",
      "[1001 rows x 3 columns]\n"
     ]
    }
   ],
   "source": [
    "#Keyword-Specific Feature Extraction\n",
    "\n",
    "tweet1['keyword_present'] = tweet1['cleaned_tweet'].str.contains(\"climate change\")\n",
    "tweet1['has_hashtags'] = tweet1['tweet'].apply(lambda x: re.findall(r\"#(\\w+)\", x))\n",
    "print(tweet1[['cleaned_tweet', 'keyword_present', 'has_hashtags']])"
   ]
  },
  {
   "cell_type": "code",
   "execution_count": 27,
   "id": "de90ec7e",
   "metadata": {},
   "outputs": [
    {
     "name": "stderr",
     "output_type": "stream",
     "text": [
      "[nltk_data] Downloading package vader_lexicon to\n",
      "[nltk_data]     C:\\Users\\Admin\\AppData\\Roaming\\nltk_data...\n",
      "[nltk_data]   Package vader_lexicon is already up-to-date!\n"
     ]
    },
    {
     "name": "stdout",
     "output_type": "stream",
     "text": [
      "   Id  \\\n",
      "0   0   \n",
      "1   1   \n",
      "2   2   \n",
      "3   3   \n",
      "4   4   \n",
      "\n",
      "                                                                                                                                                                                                                                                                                                                                                                                                                                                                                                                                                                                                                                                                                                                                                                                                                                                                                                                                                                                                                                                                                                                                                                                                                                                                                              tweet  \\\n",
      "0  You just know there are 8 or 9 \"Climate NGOs\" with Africa offices in Nairobi currently falling over themselves to offer $1,000 grants to some stupid Nigerian journalists to report the flooding in Maiduguri as \"climate change,\" tying in an argument against Africa using its own fossil fuels to industrialise.\\n\\nFor the record, here are the facts: this disaster was caused by the collapse of Maiduguri's 40 year-old Alau Dam, a dam constructed to shield Maiduguri from seasonal flooding along the Ngadda river basin. This dam already suffered structural damage due to high seasonal rainfall in 1992, 1994 and 2012, and never received the required maintenance to put it back into ideal operational shape.\\n\\nIn other words, this is an infrastructure problem, not a \"climate\" problem. It is a problem that will be solved by developing more capacity to build and adequately maintain infrastructure like Europe does - capacity that comes with cheap energy and industrialisation like Europe did.\\n\\nIf you are the oloriburuku bastard journalist in Abuja that is preparing to submit that $1,000 grant application to write nonsense for white people and hurt your people in the process, you will contract untreatable genital herpes and suffer until you die.   \n",
      "1                                                                                                                                                                                                                                                                                                                                                                                                                                                                                                         THE GREAT AWAKENING: The Truth about Bill Gates, Klaus Schwab, the World Economic Forum, BlackRock and Governments around the world destroying the Family unit and Sovereign Nations for a one world government through deliberate chaos, division, wars, climate change and pandemics.\\n\\nWe have the right as citizens in this country to abolish government and create a new one and that is the authority that has been given to us. It is written in our documents, the Declaration of Independence, the Constitution of the United States, the Declaration of Human Rights. We have indelible rights and the basis of those rights are our freedoms and if we don't have that, we don't have life. Arise humanity, wake up to the truth, fight for your freedom and for your lives.   \n",
      "2                                                                                                                                                                                                                                                                                                                                                                                                                                                                                                                                                                                                                                                                                                                                                                                                                                                                                                                                                                                                 Heavy rainfall in Ireland is becoming around 20% more intense and severe, due to human-induced climate change.\\nCouncil has recommended prioritisation of projects that enhance the resilience of Ireland’s critical infrastructure.\\n📑Read more: https://t.co/Mlbgp0qB2K https://t.co/4lg6vnW7D6   \n",
      "3                                                                                                                                                                                                                                                                                                                                                                                                                                                                                                                                                                                                                                                                                                                                                                                                                                                                                                                                                                               Why is Ginni Thomas still free ?\\nWhy isn’t Mark Meadows on trial ?\\nWhy isn’t Clarence Thomas in prison ?\\nWhy isn’t Trump facing execution for Treason ?\\n\\nThese are the most pressing issues in the USA ..other than Climate Change..which will absolutely end our way of life.\\n\\nWTAF https://t.co/3YT5DY0msl   \n",
      "4                                                                                                                                                                                                                                                                                                                                                                                                                                                                                                                                                                                                                                                                                                                                                                                                                                                                                                                                                                              Jasper, Alberta, one of the most beautiful places in the world. Firefighters don't think anything will be left by morning. \\n\\nI can't stop crying.\\n\\nDanielle Smith says there's no climate change, and no need to allocate money for forest fires.\\n\\nThe Conservatives destroyed Jasper. https://t.co/qgxilRMyPJ   \n",
      "\n",
      "   sentiment  \\\n",
      "0    -0.9850   \n",
      "1     0.7603   \n",
      "2    -0.4158   \n",
      "3    -0.4404   \n",
      "4     0.2582   \n",
      "\n",
      "                                                                                                                                                                                                                                                                                                                                                                                                                                                                                                                                                                                                                                                                                                                                                                                                                                                                                                                                                                                                                                                                                                                                                                                                                cleaned_tweet  \\\n",
      "0  You just know there are or Climate NGOs with Africa offices in Nairobi currently falling over themselves to offer grants to some stupid Nigerian journalists to report the flooding in Maiduguri as climate change tying in an argument against Africa using its own fossil fuels to industrialise For the record here are the facts this disaster was caused by the collapse of Maiduguris yearold Alau Dam a dam constructed to shield Maiduguri from seasonal flooding along the Ngadda river basin This dam already suffered structural damage due to high seasonal rainfall in and and never received the required maintenance to put it back into ideal operational shape In other words this is an infrastructure problem not a climate problem It is a problem that will be solved by developing more capacity to build and adequately maintain infrastructure like Europe does capacity that comes with cheap energy and industrialisation like Europe did If you are the oloriburuku bastard journalist in Abuja that is preparing to submit that grant application to write nonsense for white people and hurt your people in the process you will contract untreatable genital herpes and suffer until you die   \n",
      "1                                                                                                                                                                                                                                                                                                                                                                                                                                                          THE GREAT AWAKENING The Truth about Bill Gates Klaus Schwab the World Economic Forum BlackRock and Governments around the world destroying the Family unit and Sovereign Nations for a one world government through deliberate chaos division wars climate change and pandemics We have the right as citizens in this country to abolish government and create a new one and that is the authority that has been given to us It is written in our documents the Declaration of Independence the Constitution of the United States the Declaration of Human Rights We have indelible rights and the basis of those rights are our freedoms and if we dont have that we dont have life Arise humanity wake up to the truth fight for your freedom and for your lives   \n",
      "2                                                                                                                                                                                                                                                                                                                                                                                                                                                                                                                                                                                                                                                                                                                                                                                                                                                                                                                                                                                        Heavy rainfall in Ireland is becoming around more intense and severe due to humaninduced climate change Council has recommended prioritisation of projects that enhance the resilience of Irelands critical infrastructure Read more   \n",
      "3                                                                                                                                                                                                                                                                                                                                                                                                                                                                                                                                                                                                                                                                                                                                                                                                                                                                                                                                                          Why is Ginni Thomas still free Why isnt Mark Meadows on trial Why isnt Clarence Thomas in prison Why isnt Trump facing execution for Treason These are the most pressing issues in the USA other than Climate Changewhich will absolutely end our way of life WTAF   \n",
      "4                                                                                                                                                                                                                                                                                                                                                                                                                                                                                                                                                                                                                                                                                                                                                                                                                                                                                                                                                     Jasper Alberta one of the most beautiful places in the world Firefighters dont think anything will be left by morning I cant stop crying Danielle Smith says theres no climate change and no need to allocate money for forest fires The Conservatives destroyed Jasper   \n",
      "\n",
      "   keyword_present has_hashtags  sentiment_label  \n",
      "0             True           []                1  \n",
      "1             True           []                0  \n",
      "2             True           []                1  \n",
      "3            False           []                1  \n",
      "4             True           []                0  \n"
     ]
    }
   ],
   "source": [
    "#Using NLP for Contextual Understanding\n",
    "\n",
    "nltk.download('vader_lexicon')\n",
    "\n",
    "# Sentiment Analysis\n",
    "sia = SentimentIntensityAnalyzer()\n",
    "\n",
    "tweet1['sentiment'] = tweet1['cleaned_tweet'].apply(lambda x: sia.polarity_scores(x)['compound'])\n",
    "\n",
    "# Label sentiment: Positive (1), Neutral (0), Negative (-1)\n",
    "tweet1['sentiment_label'] = tweet1['sentiment'].apply(lambda x: 1 if x < 0 else (-1 if x < 0 else 0))\n",
    "\n",
    "# Display the first few rows with sentiment analysis\n",
    "print(tweet1.head())"
   ]
  },
  {
   "cell_type": "code",
   "execution_count": 28,
   "id": "b0e8147d",
   "metadata": {},
   "outputs": [
    {
     "name": "stdout",
     "output_type": "stream",
     "text": [
      "Accuracy: 0.6976744186046512\n",
      "              precision    recall  f1-score   support\n",
      "\n",
      "       False       1.00      0.07      0.13        98\n",
      "        True       0.69      1.00      0.82       203\n",
      "\n",
      "    accuracy                           0.70       301\n",
      "   macro avg       0.85      0.54      0.48       301\n",
      "weighted avg       0.79      0.70      0.59       301\n",
      "\n"
     ]
    }
   ],
   "source": [
    "#Train model\n",
    "# Feature Extraction with TF-IDF\n",
    "\n",
    "tfidf = TfidfVectorizer(max_features=5000)\n",
    "X = tfidf.fit_transform(tweet1['cleaned_tweet']).toarray()\n",
    "\n",
    "# Labels (For illustration, assume 0 = Not disinformation, 1 = Disinformation)\n",
    "# You will need labeled data for this step\n",
    "y = tweet1['keyword_present']  # Placeholder label\n",
    "\n",
    "# Train-test split\n",
    "X_train, X_test, y_train, y_test = train_test_split(X, y, test_size=0.3, random_state=42)\n",
    "\n",
    "# Model training\n",
    "model = LogisticRegression()\n",
    "model.fit(X_train, y_train)\n",
    "\n",
    "# Model evaluation\n",
    "y_pred = model.predict(X_test)\n",
    "print(f\"Accuracy: {accuracy_score(y_test, y_pred)}\")\n",
    "print(classification_report(y_test, y_pred))"
   ]
  },
  {
   "cell_type": "code",
   "execution_count": 29,
   "id": "52e8d6e6",
   "metadata": {},
   "outputs": [
    {
     "data": {
      "text/plain": [
       "['tfidf_vectorizer.pkl']"
      ]
     },
     "execution_count": 29,
     "metadata": {},
     "output_type": "execute_result"
    }
   ],
   "source": [
    "import joblib\n",
    "\n",
    "# Save the TF-IDF vectorizer\n",
    "joblib.dump(tfidf, 'tfidf_vectorizer.pkl')"
   ]
  },
  {
   "cell_type": "code",
   "execution_count": 30,
   "id": "8501927d",
   "metadata": {},
   "outputs": [
    {
     "data": {
      "text/plain": [
       "['logistic_model.pkl']"
      ]
     },
     "execution_count": 30,
     "metadata": {},
     "output_type": "execute_result"
    }
   ],
   "source": [
    "# Save the Logistic Regression model\n",
    "joblib.dump(model, 'logistic_model.pkl')"
   ]
  },
  {
   "cell_type": "code",
   "execution_count": null,
   "id": "5f375333",
   "metadata": {},
   "outputs": [],
   "source": [
    "#Integration of model with Twitter Scraper\n",
    "#Real-Time or Batch Data Processing\n",
    "\n"
   ]
  }
 ],
 "metadata": {
  "kernelspec": {
   "display_name": "Python 3 (ipykernel)",
   "language": "python",
   "name": "python3"
  },
  "language_info": {
   "codemirror_mode": {
    "name": "ipython",
    "version": 3
   },
   "file_extension": ".py",
   "mimetype": "text/x-python",
   "name": "python",
   "nbconvert_exporter": "python",
   "pygments_lexer": "ipython3",
   "version": "3.11.3"
  }
 },
 "nbformat": 4,
 "nbformat_minor": 5
}
